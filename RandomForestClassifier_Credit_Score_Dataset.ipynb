{
  "nbformat": 4,
  "nbformat_minor": 0,
  "metadata": {
    "colab": {
      "name": "RandomForestClassifier-Credit-Score-Dataset.ipynb",
      "provenance": [],
      "collapsed_sections": [],
      "machine_shape": "hm",
      "authorship_tag": "ABX9TyP/h+xeeyMGflKVG3waevEs",
      "include_colab_link": true
    },
    "kernelspec": {
      "name": "python3",
      "display_name": "Python 3"
    },
    "language_info": {
      "name": "python"
    },
    "accelerator": "GPU"
  },
  "cells": [
    {
      "cell_type": "markdown",
      "metadata": {
        "id": "view-in-github",
        "colab_type": "text"
      },
      "source": [
        "<a href=\"https://colab.research.google.com/github/anandababugudipudi/RandomForestClassifier-Credit-Score-Dataset/blob/main/RandomForestClassifier_Credit_Score_Dataset.ipynb\" target=\"_parent\"><img src=\"https://colab.research.google.com/assets/colab-badge.svg\" alt=\"Open In Colab\"/></a>"
      ]
    },
    {
      "cell_type": "markdown",
      "metadata": {
        "id": "cGGf4Mlc9VPf"
      },
      "source": [
        "### **Import necessary packages**"
      ]
    },
    {
      "cell_type": "code",
      "metadata": {
        "id": "Dx6n9ye28Hcb"
      },
      "source": [
        "import numpy as np\n",
        "import pandas as pd\n",
        "from sklearn.ensemble import RandomForestClassifier\n",
        "from sklearn.metrics import confusion_matrix, accuracy_score\n",
        "from sklearn.model_selection import train_test_split, cross_validate"
      ],
      "execution_count": null,
      "outputs": []
    },
    {
      "cell_type": "markdown",
      "metadata": {
        "id": "h1NA-JVr_klK"
      },
      "source": [
        "###**The performance of other algorithms on Credit Score dataset:**\n",
        "Logistic Regression : 93%\n",
        "\n",
        "K-Nearest Neighbors : 97.5%"
      ]
    },
    {
      "cell_type": "markdown",
      "metadata": {
        "id": "TBzYTenb9aTA"
      },
      "source": [
        "###**Load the Credit Score dataset from `.csv`**"
      ]
    },
    {
      "cell_type": "code",
      "metadata": {
        "id": "X8Tnozlh9eHe"
      },
      "source": [
        "credit_data = pd.read_csv(\"credit_data.csv\")"
      ],
      "execution_count": null,
      "outputs": []
    },
    {
      "cell_type": "markdown",
      "metadata": {
        "id": "Q4-PAfGz9hjP"
      },
      "source": [
        "###**Seperate Features and Labels**"
      ]
    },
    {
      "cell_type": "code",
      "metadata": {
        "id": "MRNMjkGm9mBQ"
      },
      "source": [
        "X = credit_data.drop(columns = 'default')\n",
        "y = credit_data.default"
      ],
      "execution_count": null,
      "outputs": []
    },
    {
      "cell_type": "markdown",
      "metadata": {
        "id": "p58zzWRRCUdc"
      },
      "source": [
        "###**Reshape the DataFrame into array**"
      ]
    },
    {
      "cell_type": "code",
      "metadata": {
        "colab": {
          "base_uri": "https://localhost:8080/"
        },
        "id": "hC4ISKYNCZoz",
        "outputId": "c56dbf72-275a-4a8c-c0b4-0ccde67134c5"
      },
      "source": [
        "X = np.array(X).reshape(-1, 24)\n",
        "y = np.array(y)\n",
        "\n",
        "print(X.shape)\n",
        "print(y.shape)"
      ],
      "execution_count": null,
      "outputs": [
        {
          "output_type": "stream",
          "text": [
            "(30000, 24)\n",
            "(30000,)\n"
          ],
          "name": "stdout"
        }
      ]
    },
    {
      "cell_type": "markdown",
      "metadata": {
        "id": "rpjvNJiD9_ep"
      },
      "source": [
        "###**Build the RFC model**"
      ]
    },
    {
      "cell_type": "code",
      "metadata": {
        "id": "yOaoS8N1-Cop"
      },
      "source": [
        "model = RandomForestClassifier()"
      ],
      "execution_count": null,
      "outputs": []
    },
    {
      "cell_type": "markdown",
      "metadata": {
        "id": "Xovq6-bE-LA5"
      },
      "source": [
        "###**Train the model on Training data**"
      ]
    },
    {
      "cell_type": "code",
      "metadata": {
        "id": "Jtohkl6o-Pe6"
      },
      "source": [
        "predicted = cross_validate(model, X, y, cv = 10)"
      ],
      "execution_count": null,
      "outputs": []
    },
    {
      "cell_type": "markdown",
      "metadata": {
        "id": "Yw1c56NZ-sCZ"
      },
      "source": [
        "###**Measuring the performance of the model**"
      ]
    },
    {
      "cell_type": "code",
      "metadata": {
        "colab": {
          "base_uri": "https://localhost:8080/"
        },
        "id": "PMDrSn5N-9rZ",
        "outputId": "a9581487-5b18-4479-9c02-de88cd8e2067"
      },
      "source": [
        "print(np.mean(predicted['test_score']))"
      ],
      "execution_count": null,
      "outputs": [
        {
          "output_type": "stream",
          "text": [
            "0.8168333333333333\n"
          ],
          "name": "stdout"
        }
      ]
    }
  ]
}